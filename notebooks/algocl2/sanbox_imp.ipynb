{
 "cells": [
  {
   "cell_type": "code",
   "execution_count": 1,
   "metadata": {},
   "outputs": [
    {
     "name": "stdout",
     "output_type": "stream",
     "text": [
      "My address: 5UHGB5GVOVBLFRGEAZMCGH2E6H6DGFQYAGFWBIC3JIQA474HPOSXLPJVWU\n",
      "My private key: +usvbk8ohEvTOCCv9LCP/mpBCywPrcdIRLU8Od5wqjftDmD01XVCssTEBlgjH0Tx/DMWGAGLYKBbSiAOf4d7pQ==\n",
      "My passphrase: leg sausage require lumber analyst spray shoot cage nominee sense elephant quiz lizard actress just public body bachelor follow need round order run ability stereo\n"
     ]
    }
   ],
   "source": [
    "from algosdk import account, mnemonic\n",
    "\n",
    "private_key, address = account.generate_account()\n",
    "print(\"My address: {}\".format(address))\n",
    "print(\"My private key: {}\".format(private_key))\n",
    "print(\"My passphrase: {}\".format(mnemonic.from_private_key(private_key)))"
   ]
  },
  {
   "cell_type": "code",
   "execution_count": 2,
   "metadata": {},
   "outputs": [
    {
     "name": "stdout",
     "output_type": "stream",
     "text": [
      "Private key from mnemonic: +usvbk8ohEvTOCCv9LCP/mpBCywPrcdIRLU8Od5wqjftDmD01XVCssTEBlgjH0Tx/DMWGAGLYKBbSiAOf4d7pQ==\n",
      "Public key from mnemonic: 5UHGB5GVOVBLFRGEAZMCGH2E6H6DGFQYAGFWBIC3JIQA474HPOSXLPJVWU\n"
     ]
    }
   ],
   "source": [
    "print(f\"Private key from mnemonic: {mnemonic.to_private_key('leg sausage require lumber analyst spray shoot cage nominee sense elephant quiz lizard actress just public body bachelor follow need round order run ability stereo')}\")\n",
    "print(f\"Public key from mnemonic: {mnemonic.to_public_key('leg sausage require lumber analyst spray shoot cage nominee sense elephant quiz lizard actress just public body bachelor follow need round order run ability stereo')}\")"
   ]
  },
  {
   "cell_type": "code",
   "execution_count": 4,
   "metadata": {},
   "outputs": [],
   "source": [
    "mnemo_2 = 'wrong afford tortoise method romance enrich car novel canoe couch start antenna imitate affair canal addict pizza talent believe gather inject wall any absent net'\n",
    "priv_2 = mnemonic.to_private_key(mnemo_2)\n",
    "pub_2 = mnemonic.to_public_key(mnemo_2)"
   ]
  },
  {
   "cell_type": "code",
   "execution_count": 14,
   "metadata": {},
   "outputs": [
    {
     "data": {
      "text/plain": [
       "'FU3JH4LJUZSA23C6UKKDJ42SRRDG3YAJMEWJQJQFU4M6LXYNERORGXNBYU'"
      ]
     },
     "execution_count": 14,
     "metadata": {},
     "output_type": "execute_result"
    }
   ],
   "source": [
    "pub_2"
   ]
  },
  {
   "cell_type": "code",
   "execution_count": 6,
   "metadata": {},
   "outputs": [],
   "source": [
    "from algosdk.v2client import algod\n",
    "\n",
    "algod_address = \"http://localhost:4001\"\n",
    "algod_token = \"aaaaaaaaaaaaaaaaaaaaaaaaaaaaaaaaaaaaaaaaaaaaaaaaaaaaaaaaaaaaaaaa\"\n",
    "algod_client = algod.AlgodClient(algod_token, algod_address)"
   ]
  },
  {
   "cell_type": "code",
   "execution_count": 7,
   "metadata": {},
   "outputs": [
    {
     "name": "stdout",
     "output_type": "stream",
     "text": [
      "Account balance: 4000120000798980 microAlgos\n",
      "\n"
     ]
    }
   ],
   "source": [
    "account_info = algod_client.account_info(pub_2)\n",
    "print(\"Account balance: {} microAlgos\".format(account_info.get('amount')) + \"\\n\")"
   ]
  },
  {
   "cell_type": "code",
   "execution_count": 12,
   "metadata": {},
   "outputs": [
    {
     "name": "stdout",
     "output_type": "stream",
     "text": [
      "Account balance: 0 microAlgos\n",
      "\n"
     ]
    }
   ],
   "source": [
    "account_info = algod_client.account_info(address)\n",
    "print(\"Account balance: {} microAlgos\".format(account_info.get('amount')) + \"\\n\")"
   ]
  },
  {
   "cell_type": "code",
   "execution_count": 15,
   "metadata": {},
   "outputs": [],
   "source": [
    "# build transaction\n",
    "from algosdk.future import transaction\n",
    "from algosdk import constants\n",
    "\n",
    "\n",
    "params = algod_client.suggested_params()\n",
    "# comment out the next two (2) lines to use suggested fees\n",
    "params.flat_fee = True\n",
    "params.fee = constants.MIN_TXN_FEE \n",
    "receiver = address\n",
    "note = \"Hello World\".encode()\n",
    "amount = 1000000\n",
    "unsigned_txn = transaction.PaymentTxn(pub_2, params, receiver, amount, None, note)"
   ]
  },
  {
   "cell_type": "code",
   "execution_count": 16,
   "metadata": {},
   "outputs": [
    {
     "name": "stdout",
     "output_type": "stream",
     "text": [
      "Account balance: 0 microAlgos\n",
      "\n"
     ]
    }
   ],
   "source": [
    "account_info = algod_client.account_info(address)\n",
    "print(\"Account balance: {} microAlgos\".format(account_info.get('amount')) + \"\\n\")\n"
   ]
  },
  {
   "cell_type": "code",
   "execution_count": 17,
   "metadata": {},
   "outputs": [],
   "source": [
    "# sign transaction\n",
    "signed_txn = unsigned_txn.sign(priv_2)"
   ]
  },
  {
   "cell_type": "code",
   "execution_count": 18,
   "metadata": {},
   "outputs": [],
   "source": [
    "txid = algod_client.send_transaction(signed_txn)"
   ]
  },
  {
   "cell_type": "code",
   "execution_count": 19,
   "metadata": {},
   "outputs": [
    {
     "name": "stdout",
     "output_type": "stream",
     "text": [
      "Successfully sent transaction with txID: QIBHI5QCWDPCUPYAH2IETWGDCR2KBZVH6UZWTVDLNYZMC7CFXZHA\n",
      "Transaction information: {\n",
      "    \"confirmed-round\": 1454,\n",
      "    \"pool-error\": \"\",\n",
      "    \"sender-rewards\": 104001039974,\n",
      "    \"txn\": {\n",
      "        \"sig\": \"gqfxVJpvBcUq8/5qB533RmYWxtKk6lcyHmiWPXhb5W3kqw7koIRgmtrXRimvg03CCLisTepW3FYMIA//HbdECg==\",\n",
      "        \"txn\": {\n",
      "            \"amt\": 1000000,\n",
      "            \"fee\": 1000,\n",
      "            \"fv\": 1371,\n",
      "            \"gen\": \"sandnet-v1\",\n",
      "            \"gh\": \"7NQmXtU8mwGEzhdC2b6LD6+gq2H/aEvg4z3O14y3MIA=\",\n",
      "            \"lv\": 2371,\n",
      "            \"note\": \"SGVsbG8gV29ybGQ=\",\n",
      "            \"rcv\": \"5UHGB5GVOVBLFRGEAZMCGH2E6H6DGFQYAGFWBIC3JIQA474HPOSXLPJVWU\",\n",
      "            \"snd\": \"FU3JH4LJUZSA23C6UKKDJ42SRRDG3YAJMEWJQJQFU4M6LXYNERORGXNBYU\",\n",
      "            \"type\": \"pay\"\n",
      "        }\n",
      "    }\n",
      "}\n",
      "Decoded note: Hello World\n",
      "Starting Account balance: 0 microAlgos\n",
      "Amount transfered: 1000000 microAlgos\n",
      "Fee: 1000 microAlgos\n",
      "Final Account balance: 4000144000037974 microAlgos\n",
      "\n"
     ]
    }
   ],
   "source": [
    "import json\n",
    "import base64\n",
    "\n",
    "\n",
    "#submit transaction\n",
    "\n",
    "print(\"Successfully sent transaction with txID: {}\".format(txid))\n",
    "\n",
    "# wait for confirmation \n",
    "try:\n",
    "    confirmed_txn = transaction.wait_for_confirmation(algod_client, txid, 4)  \n",
    "except Exception as err:\n",
    "    print(err)\n",
    "    # return\n",
    "\n",
    "print(\"Transaction information: {}\".format(\n",
    "    json.dumps(confirmed_txn, indent=4)))\n",
    "print(\"Decoded note: {}\".format(base64.b64decode(\n",
    "    confirmed_txn[\"txn\"][\"txn\"][\"note\"]).decode()))\n",
    "print(\"Starting Account balance: {} microAlgos\".format(account_info.get('amount')) )\n",
    "print(\"Amount transfered: {} microAlgos\".format(amount) )    \n",
    "print(\"Fee: {} microAlgos\".format(params.fee) ) \n",
    "\n",
    "\n",
    "account_info = algod_client.account_info(pub_2)\n",
    "print(\"Final Account balance: {} microAlgos\".format(account_info.get('amount')) + \"\\n\")"
   ]
  },
  {
   "cell_type": "code",
   "execution_count": 20,
   "metadata": {},
   "outputs": [
    {
     "name": "stdout",
     "output_type": "stream",
     "text": [
      "Account balance: 1000000 microAlgos\n",
      "\n"
     ]
    }
   ],
   "source": [
    "account_info = algod_client.account_info(address)\n",
    "print(\"Account balance: {} microAlgos\".format(account_info.get('amount')) + \"\\n\")"
   ]
  },
  {
   "cell_type": "code",
   "execution_count": 21,
   "metadata": {},
   "outputs": [],
   "source": [
    "from algosdk.future.transaction import AssetConfigTxn, AssetTransferTxn, AssetFreezeTxn, wait_for_confirmation"
   ]
  },
  {
   "cell_type": "code",
   "execution_count": 22,
   "metadata": {},
   "outputs": [
    {
     "name": "stdout",
     "output_type": "stream",
     "text": [
      "Signed transaction with txID: PX455CCQ2R2OIDLIDP3OOY6WE3KBKISSS6LFYPT7SREHN47GADAA\n",
      "TXID:  PX455CCQ2R2OIDLIDP3OOY6WE3KBKISSS6LFYPT7SREHN47GADAA\n",
      "Result confirmed in round: 1994\n",
      "Transaction information: {\n",
      "    \"asset-index\": 9,\n",
      "    \"confirmed-round\": 1994,\n",
      "    \"pool-error\": \"\",\n",
      "    \"sender-rewards\": 52001872000,\n",
      "    \"txn\": {\n",
      "        \"sig\": \"Of21GgIhrBzy1AZ/ez35OGGolp8hNOISFORds1R3gOC35VTkItkmnmxXSeUtxGO1UhDGLQJGDzi9DYVTZLS1Ag==\",\n",
      "        \"txn\": {\n",
      "            \"apar\": {\n",
      "                \"an\": \"Firts NFT\",\n",
      "                \"au\": \"https://path/to/my/asset/details\",\n",
      "                \"c\": \"FU3JH4LJUZSA23C6UKKDJ42SRRDG3YAJMEWJQJQFU4M6LXYNERORGXNBYU\",\n",
      "                \"f\": \"FU3JH4LJUZSA23C6UKKDJ42SRRDG3YAJMEWJQJQFU4M6LXYNERORGXNBYU\",\n",
      "                \"m\": \"FU3JH4LJUZSA23C6UKKDJ42SRRDG3YAJMEWJQJQFU4M6LXYNERORGXNBYU\",\n",
      "                \"r\": \"FU3JH4LJUZSA23C6UKKDJ42SRRDG3YAJMEWJQJQFU4M6LXYNERORGXNBYU\",\n",
      "                \"t\": 1,\n",
      "                \"un\": \"LATINUM\"\n",
      "            },\n",
      "            \"fee\": 1000,\n",
      "            \"fv\": 1992,\n",
      "            \"gen\": \"sandnet-v1\",\n",
      "            \"gh\": \"7NQmXtU8mwGEzhdC2b6LD6+gq2H/aEvg4z3O14y3MIA=\",\n",
      "            \"lv\": 2992,\n",
      "            \"snd\": \"FU3JH4LJUZSA23C6UKKDJ42SRRDG3YAJMEWJQJQFU4M6LXYNERORGXNBYU\",\n",
      "            \"type\": \"acfg\"\n",
      "        }\n",
      "    }\n",
      "}\n"
     ]
    }
   ],
   "source": [
    "# CREATE ASSET\n",
    "# Get network params for transactions before every transaction.\n",
    "params = algod_client.suggested_params()\n",
    "# comment these two lines if you want to use suggested params\n",
    "# params.fee = 1000\n",
    "# params.flat_fee = True\n",
    "# Account 1 creates an asset called latinum and\n",
    "# sets Account 2 as the manager, reserve, freeze, and clawback address.\n",
    "# Asset Creation transaction\n",
    "txn = AssetConfigTxn(\n",
    "    sender=pub_2,\n",
    "    sp=params,\n",
    "    total=1,\n",
    "    default_frozen=False,\n",
    "    unit_name=\"LATINUM\",\n",
    "    asset_name=\"Firts NFT\",\n",
    "    manager=pub_2,\n",
    "    reserve=pub_2,\n",
    "    freeze=pub_2,\n",
    "    clawback=pub_2,\n",
    "    url=\"https://path/to/my/asset/details\", \n",
    "    decimals=0)\n",
    "# Sign with secret key of creator\n",
    "stxn = txn.sign(priv_2)\n",
    "# Send the transaction to the network and retrieve the txid.\n",
    "try:\n",
    "    txid = algod_client.send_transaction(stxn)\n",
    "    print(\"Signed transaction with txID: {}\".format(txid))\n",
    "    # Wait for the transaction to be confirmed\n",
    "    confirmed_txn = wait_for_confirmation(algod_client, txid, 4)  \n",
    "    print(\"TXID: \", txid)\n",
    "    print(\"Result confirmed in round: {}\".format(confirmed_txn['confirmed-round']))   \n",
    "except Exception as err:\n",
    "    print(err)\n",
    "# Retrieve the asset ID of the newly created asset by first\n",
    "# ensuring that the creation transaction was confirmed,\n",
    "# then grabbing the asset id from the transaction.\n",
    "print(\"Transaction information: {}\".format(\n",
    "    json.dumps(confirmed_txn, indent=4)))\n",
    "# print(\"Decoded note: {}\".format(base64.b64decode(\n",
    "#     confirmed_txn[\"txn\"][\"txn\"][\"note\"]).decode()))\n"
   ]
  },
  {
   "cell_type": "code",
   "execution_count": null,
   "metadata": {},
   "outputs": [],
   "source": []
  }
 ],
 "metadata": {
  "kernelspec": {
   "display_name": "Python 3.10.6 ('project-env': venv)",
   "language": "python",
   "name": "python3"
  },
  "language_info": {
   "codemirror_mode": {
    "name": "ipython",
    "version": 3
   },
   "file_extension": ".py",
   "mimetype": "text/x-python",
   "name": "python",
   "nbconvert_exporter": "python",
   "pygments_lexer": "ipython3",
   "version": "3.10.6"
  },
  "orig_nbformat": 4,
  "vscode": {
   "interpreter": {
    "hash": "a792f72a97eedcf64a934bdcd5b9de2837f978cfdd4cad6bf9c7932b1f396de5"
   }
  }
 },
 "nbformat": 4,
 "nbformat_minor": 2
}
